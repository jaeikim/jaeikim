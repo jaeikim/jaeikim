{
  "nbformat": 4,
  "nbformat_minor": 0,
  "metadata": {
    "colab": {
      "name": "으뜸_p322_perceptron_learning.ipynb",
      "provenance": [],
      "collapsed_sections": [],
      "authorship_tag": "ABX9TyOmiwYXY0e7pzLFsN9+9Ewv",
      "include_colab_link": true
    },
    "kernelspec": {
      "name": "python3",
      "display_name": "Python 3"
    },
    "language_info": {
      "name": "python"
    }
  },
  "cells": [
    {
      "cell_type": "markdown",
      "metadata": {
        "id": "view-in-github",
        "colab_type": "text"
      },
      "source": [
        "<a href=\"https://colab.research.google.com/github/jaeikim/jaeikim/blob/main/%EC%9C%BC%EB%9C%B8_p322_perceptron_learning.ipynb\" target=\"_parent\"><img src=\"https://colab.research.google.com/assets/colab-badge.svg\" alt=\"Open In Colab\"/></a>"
      ]
    },
    {
      "cell_type": "code",
      "execution_count": null,
      "metadata": {
        "id": "eqVRvawlPeJj",
        "colab": {
          "base_uri": "https://localhost:8080/"
        },
        "outputId": "f4aecf09-9e4e-478b-fcb2-c70ddb532891"
      },
      "outputs": [
        {
          "output_type": "stream",
          "name": "stdout",
          "text": [
            "epoch= 0 \n",
            "===================\n",
            "입력 [-1 -1  1] 정답 -1 출력 -1 변경된 가중치: [0. 0. 0.] error: 0\n"
          ]
        }
      ],
      "source": [
        "import numpy as np\n",
        "def activation(s):\n",
        "  if s>0: return 1\n",
        "  else : return -1\n",
        "def out(x):\n",
        "  return activation(W.dot(x))\n",
        "def train(X,Y,epochs=10):\n",
        "  global W, learning_rate\n",
        "  for t in range(epochs):\n",
        "    print('epoch=',t,'\\n===================')\n",
        "    adjusted=0\n",
        "    for i in range(len(X)):\n",
        "      Y_hat=out(X[i])\n",
        "      error=Y[i]-Y_hat\n",
        "      if error !=0 : adjusted +=1\n",
        "      W+=learning_rate*error*X[i]\n",
        "      print('입력',X[i],'정답',Y[i],'출력',Y_hat, \\\n",
        "            '변경된 가중치:',W,'error:',error)\n",
        "      if adjusted ==0: return\n",
        "X=np.array([[-1,-1,1],\n",
        "          [-1,1,1],\n",
        "          [1,-1,1],\n",
        "          [1,1,1]])\n",
        "Y=np.array([-1,-1,-1,-1])\n",
        "W=np.array([0,0,0],dtype=np.float64)\n",
        "learning_rate=0.1\n",
        "train(X,Y,100)\n",
        "\n"
      ]
    },
    {
      "cell_type": "code",
      "source": [
        ""
      ],
      "metadata": {
        "id": "rreTj-7sTc9G"
      },
      "execution_count": null,
      "outputs": []
    }
  ]
}